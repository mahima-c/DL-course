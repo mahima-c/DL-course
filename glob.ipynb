{
 "cells": [
  {
   "cell_type": "code",
   "execution_count": 1,
   "id": "married-liechtenstein",
   "metadata": {},
   "outputs": [],
   "source": [
    "import glob"
   ]
  },
  {
   "cell_type": "code",
   "execution_count": 12,
   "id": "nutritional-candy",
   "metadata": {},
   "outputs": [],
   "source": [
    "for name in glob.glob('C:/Users/Mahima/Downloads/DL-course/Dataset/train/train/cat*'):\n",
    "#     print(name)\n",
    "    source = name\n",
    "    destination = \"cat\"\n",
    "    new_path = shutil.move(source, destination)\n",
    "\n",
    "# \n"
   ]
  },
  {
   "cell_type": "code",
   "execution_count": 7,
   "id": "collect-arnold",
   "metadata": {},
   "outputs": [],
   "source": [
    "import shutil\n"
   ]
  },
  {
   "cell_type": "code",
   "execution_count": null,
   "id": "insured-right",
   "metadata": {},
   "outputs": [],
   "source": [
    "shutil.move(\"path/to/current/file.foo\", \"path/to/new/destination/for/file.foo\")\n"
   ]
  },
  {
   "cell_type": "code",
   "execution_count": 8,
   "id": "limited-biology",
   "metadata": {},
   "outputs": [
    {
     "data": {
      "text/plain": [
       "'C:\\\\Users\\\\Mahima\\\\Downloads\\\\DL-course\\\\Dataset\\\\train'"
      ]
     },
     "execution_count": 8,
     "metadata": {},
     "output_type": "execute_result"
    }
   ],
   "source": [
    "pwd"
   ]
  },
  {
   "cell_type": "code",
   "execution_count": 13,
   "id": "indian-drawing",
   "metadata": {},
   "outputs": [],
   "source": [
    "for name in glob.glob('C:/Users/Mahima/Downloads/DL-course/Dataset/train/train/dog*'):\n",
    "#     print(name)\n",
    "    source = name\n",
    "    destination = \"dog\"\n",
    "    new_path = shutil.move(source, destination)"
   ]
  },
  {
   "cell_type": "code",
   "execution_count": null,
   "id": "physical-coordinate",
   "metadata": {},
   "outputs": [],
   "source": [
    "for name in glob.glob('C:/Users/Mahima/Downloads/DL-course/Dataset/train/train/cat*'):\n",
    "#     print(name)\n",
    "    source = name\n",
    "    destination = \"cat\"\n",
    "    new_path = shutil.move(source, destination)\n",
    "\n",
    "# "
   ]
  },
  {
   "cell_type": "code",
   "execution_count": null,
   "id": "extensive-february",
   "metadata": {},
   "outputs": [],
   "source": []
  },
  {
   "cell_type": "code",
   "execution_count": null,
   "id": "spoken-automation",
   "metadata": {},
   "outputs": [],
   "source": []
  },
  {
   "cell_type": "code",
   "execution_count": null,
   "id": "attractive-quantity",
   "metadata": {},
   "outputs": [],
   "source": []
  },
  {
   "cell_type": "code",
   "execution_count": null,
   "id": "french-replication",
   "metadata": {},
   "outputs": [],
   "source": []
  }
 ],
 "metadata": {
  "kernelspec": {
   "display_name": "Python 3",
   "language": "python",
   "name": "python3"
  },
  "language_info": {
   "codemirror_mode": {
    "name": "ipython",
    "version": 3
   },
   "file_extension": ".py",
   "mimetype": "text/x-python",
   "name": "python",
   "nbconvert_exporter": "python",
   "pygments_lexer": "ipython3",
   "version": "3.6.7"
  }
 },
 "nbformat": 4,
 "nbformat_minor": 5
}
