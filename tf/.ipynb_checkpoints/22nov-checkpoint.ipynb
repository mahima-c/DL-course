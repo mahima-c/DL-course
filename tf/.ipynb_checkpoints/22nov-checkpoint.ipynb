{
 "cells": [
  {
   "cell_type": "markdown",
   "id": "empirical-workshop",
   "metadata": {},
   "source": [
    "# 22 Nov"
   ]
  },
  {
   "cell_type": "code",
   "execution_count": 7,
   "id": "appropriate-brother",
   "metadata": {},
   "outputs": [],
   "source": [
    "import tensorflow as tf\n",
    "import matplotlib.pyplot as plt"
   ]
  },
  {
   "cell_type": "code",
   "execution_count": 2,
   "id": "senior-fluid",
   "metadata": {},
   "outputs": [],
   "source": [
    "mnist=tf.keras.datasets.mnist\n",
    "(x_train_full,y_train_full),(x_test,y_test)=mnist.load_data()"
   ]
  },
  {
   "cell_type": "code",
   "execution_count": 3,
   "id": "thorough-covering",
   "metadata": {},
   "outputs": [
    {
     "name": "stdout",
     "output_type": "stream",
     "text": [
      "datatype:uint8,shape is (60000, 28, 28)\n"
     ]
    }
   ],
   "source": [
    "print(f'datatype:{x_train_full.dtype},shape is {x_train_full.shape}')"
   ]
  },
  {
   "cell_type": "code",
   "execution_count": 4,
   "id": "japanese-office",
   "metadata": {},
   "outputs": [],
   "source": [
    "x_valid,x_train=x_train_full[:5000]/255.,x_train_full[5000:]/255."
   ]
  },
  {
   "cell_type": "code",
   "execution_count": 5,
   "id": "complex-explanation",
   "metadata": {},
   "outputs": [],
   "source": [
    "y_valid,y_train=y_train_full[:5000]/255.,y_train_full[5000:]/255."
   ]
  },
  {
   "cell_type": "code",
   "execution_count": 6,
   "id": "nearby-murray",
   "metadata": {},
   "outputs": [
    {
     "data": {
      "text/plain": [
       "(28, 28)"
      ]
     },
     "execution_count": 6,
     "metadata": {},
     "output_type": "execute_result"
    }
   ],
   "source": [
    "x_train[1].shape"
   ]
  },
  {
   "cell_type": "code",
   "execution_count": 8,
   "id": "further-formation",
   "metadata": {},
   "outputs": [
    {
     "data": {
      "text/plain": [
       "<matplotlib.image.AxesImage at 0x271f0220c88>"
      ]
     },
     "execution_count": 8,
     "metadata": {},
     "output_type": "execute_result"
    },
    {
     "data": {
      "image/png": "[encoded data removed]",
      "text/plain": [
       "<Figure size 432x288 with 1 Axes>"
      ]
     },
     "metadata": {
      "needs_background": "light"
     },
     "output_type": "display_data"
    }
   ],
   "source": [
    "plt.imshow(x_train[1])"
   ]
  },
  {
   "cell_type": "code",
   "execution_count": 10,
   "id": "legendary-while",
   "metadata": {},
   "outputs": [],
   "source": [
    "import seaborn as sns"
   ]
  },
  {
   "cell_type": "code",
   "execution_count": 11,
   "id": "overhead-parking",
   "metadata": {},
   "outputs": [
    {
     "data": {
      "text/plain": [
       "<AxesSubplot:>"
      ]
     },
     "execution_count": 11,
     "metadata": {},
     "output_type": "execute_result"
    },
    {
     "data": {
      "image/png": "[encoded data removed]",
      "text/plain": [
       "<Figure size 1080x1080 with 2 Axes>"
      ]
     },
     "metadata": {
      "needs_background": "light"
     },
     "output_type": "display_data"
    }
   ],
   "source": [
    "plt.figure(figsize=(15,15))\n",
    "sns.heatmap(x_train[1],cmap='binary')"
   ]
  },
  {
   "cell_type": "code",
   "execution_count": 12,
   "id": "israeli-triumph",
   "metadata": {},
   "outputs": [],
   "source": [
    "# create ANN\n",
    "layers=[\n",
    "    tf.keras.layers.Flatten(input_shape=[28,28],name=\"input_Layer\"),\n",
    "    tf.keras.layers.Dense(300,activation=\"relu\",name=\"hidden_layer1\"),\n",
    "    tf.keras.layers.Dense(100,activation=\"relu\",name=\"hidden_layer2\"),\n",
    "    tf.keras.layers.Dense(10,activation=\"softmax\",name=\"outputlayer\"),\n",
    "\n",
    "]\n",
    "model=tf.keras.models.Sequential(layers)\n"
   ]
  },
  {
   "cell_type": "markdown",
   "id": "cloudy-salmon",
   "metadata": {},
   "source": [
    "#### Altenative 1\n",
    "\n",
    "```python\n",
    "model = tf.keras.models.Sequential()\n",
    "model.add(tf.keras.layers.Flatten(input_shape=[28, 28]))\n",
    "model.add(tf.keras.layers.Dense(300, activation=\"relu\"))\n",
    "model.add(tf.keras.layers.Dense(100, activation=\"relu\"))\n",
    "model.add(tf.keras.layers.Dense(10, activation=\"softmax\"))\n",
    "\n",
    "```"
   ]
  },
  {
   "cell_type": "markdown",
   "id": "referenced-afternoon",
   "metadata": {},
   "source": [
    "#### Alternative 2\n",
    "\n",
    "```python\n",
    "model = tf.keras.models.Sequential([\n",
    "    tf.keras.layers.Flatten(input_shape=[28, 28]),\n",
    "    tf.keras.layers.Dense(300, activation=\"relu\"),\n",
    "    tf.keras.layers.Dense(100, activation=\"relu\"),\n",
    "    tf.keras.layers.Dense(10, activation=\"softmax\")\n",
    "])\n",
    "```"
   ]
  },
  {
   "cell_type": "code",
   "execution_count": 15,
   "id": "approximate-trade",
   "metadata": {},
   "outputs": [
    {
     "data": {
      "text/plain": [
       "[<tensorflow.python.keras.layers.core.Flatten at 0x271f32cda20>,\n",
       " <tensorflow.python.keras.layers.core.Dense at 0x271f3267e80>,\n",
       " <tensorflow.python.keras.layers.core.Dense at 0x271f32cdcf8>,\n",
       " <tensorflow.python.keras.layers.core.Dense at 0x271f32cdf98>]"
      ]
     },
     "execution_count": 15,
     "metadata": {},
     "output_type": "execute_result"
    }
   ],
   "source": [
    "# print the layer\n",
    "model.layers\n"
   ]
  },
  {
   "cell_type": "code",
   "execution_count": 16,
   "id": "deluxe-pillow",
   "metadata": {},
   "outputs": [
    {
     "name": "stdout",
     "output_type": "stream",
     "text": [
      "Model: \"sequential\"\n",
      "_________________________________________________________________\n",
      "Layer (type)                 Output Shape              Param #   \n",
      "=================================================================\n",
      "input_Layer (Flatten)        (None, 784)               0         \n",
      "_________________________________________________________________\n",
      "hidden_layer1 (Dense)        (None, 300)               235500    \n",
      "_________________________________________________________________\n",
      "hidden_layer2 (Dense)        (None, 100)               30100     \n",
      "_________________________________________________________________\n",
      "outputlayer (Dense)          (None, 10)                1010      \n",
      "=================================================================\n",
      "Total params: 266,610\n",
      "Trainable params: 266,610\n",
      "Non-trainable params: 0\n",
      "_________________________________________________________________\n"
     ]
    }
   ],
   "source": [
    "model.summary()"
   ]
  },
  {
   "cell_type": "code",
   "execution_count": 17,
   "id": "formal-concentration",
   "metadata": {},
   "outputs": [
    {
     "data": {
      "text/plain": [
       "(235500, 30100, 1010)"
      ]
     },
     "execution_count": 17,
     "metadata": {},
     "output_type": "execute_result"
    }
   ],
   "source": [
    "# firsLayer * secondLayer + bias\n",
    "784*300 + 300, 300*100+100, 100*10+10"
   ]
  },
  {
   "cell_type": "code",
   "execution_count": 19,
   "id": "serious-istanbul",
   "metadata": {},
   "outputs": [
    {
     "data": {
      "text/plain": [
       "266610"
      ]
     },
     "execution_count": 19,
     "metadata": {},
     "output_type": "execute_result"
    }
   ],
   "source": [
    "235500+30100+1010"
   ]
  },
  {
   "cell_type": "code",
   "execution_count": 22,
   "id": "burning-gamma",
   "metadata": {},
   "outputs": [
    {
     "data": {
      "text/plain": [
       "'hidden_layer1'"
      ]
     },
     "execution_count": 22,
     "metadata": {},
     "output_type": "execute_result"
    }
   ],
   "source": [
    "hidden1=model.layers[1]\n",
    "hidden1.name"
   ]
  },
  {
   "cell_type": "code",
   "execution_count": 30,
   "id": "excellent-truth",
   "metadata": {},
   "outputs": [],
   "source": [
    "weights,biases=hidden1.get_weights()"
   ]
  },
  {
   "cell_type": "code",
   "execution_count": 31,
   "id": "sharp-percentage",
   "metadata": {},
   "outputs": [
    {
     "data": {
      "text/plain": [
       "(array([[-0.01909242,  0.02978522, -0.02010706, ..., -0.0500911 ,\n",
       "         -0.02592091, -0.0150594 ],\n",
       "        [ 0.07276379, -0.00402584, -0.03478207, ...,  0.05972238,\n",
       "          0.0094958 , -0.00202696],\n",
       "        [-0.06185617, -0.06165891,  0.04443374, ..., -0.00500706,\n",
       "          0.07341231, -0.00925733],\n",
       "        ...,\n",
       "        [ 0.05622749,  0.04705077, -0.06144313, ...,  0.01805914,\n",
       "         -0.0276402 , -0.07376262],\n",
       "        [-0.00649161, -0.01815414, -0.06766755, ..., -0.06314763,\n",
       "          0.06780094,  0.01069637],\n",
       "        [-0.00497346,  0.0652453 ,  0.0416124 , ...,  0.03007916,\n",
       "          0.0095096 , -0.06051418]], dtype=float32),\n",
       " array([0., 0., 0., 0., 0., 0., 0., 0., 0., 0., 0., 0., 0., 0., 0., 0., 0.,\n",
       "        0., 0., 0., 0., 0., 0., 0., 0., 0., 0., 0., 0., 0., 0., 0., 0., 0.,\n",
       "        0., 0., 0., 0., 0., 0., 0., 0., 0., 0., 0., 0., 0., 0., 0., 0., 0.,\n",
       "        0., 0., 0., 0., 0., 0., 0., 0., 0., 0., 0., 0., 0., 0., 0., 0., 0.,\n",
       "        0., 0., 0., 0., 0., 0., 0., 0., 0., 0., 0., 0., 0., 0., 0., 0., 0.,\n",
       "        0., 0., 0., 0., 0., 0., 0., 0., 0., 0., 0., 0., 0., 0., 0., 0., 0.,\n",
       "        0., 0., 0., 0., 0., 0., 0., 0., 0., 0., 0., 0., 0., 0., 0., 0., 0.,\n",
       "        0., 0., 0., 0., 0., 0., 0., 0., 0., 0., 0., 0., 0., 0., 0., 0., 0.,\n",
       "        0., 0., 0., 0., 0., 0., 0., 0., 0., 0., 0., 0., 0., 0., 0., 0., 0.,\n",
       "        0., 0., 0., 0., 0., 0., 0., 0., 0., 0., 0., 0., 0., 0., 0., 0., 0.,\n",
       "        0., 0., 0., 0., 0., 0., 0., 0., 0., 0., 0., 0., 0., 0., 0., 0., 0.,\n",
       "        0., 0., 0., 0., 0., 0., 0., 0., 0., 0., 0., 0., 0., 0., 0., 0., 0.,\n",
       "        0., 0., 0., 0., 0., 0., 0., 0., 0., 0., 0., 0., 0., 0., 0., 0., 0.,\n",
       "        0., 0., 0., 0., 0., 0., 0., 0., 0., 0., 0., 0., 0., 0., 0., 0., 0.,\n",
       "        0., 0., 0., 0., 0., 0., 0., 0., 0., 0., 0., 0., 0., 0., 0., 0., 0.,\n",
       "        0., 0., 0., 0., 0., 0., 0., 0., 0., 0., 0., 0., 0., 0., 0., 0., 0.,\n",
       "        0., 0., 0., 0., 0., 0., 0., 0., 0., 0., 0., 0., 0., 0., 0., 0., 0.,\n",
       "        0., 0., 0., 0., 0., 0., 0., 0., 0., 0., 0.], dtype=float32))"
      ]
     },
     "execution_count": 31,
     "metadata": {},
     "output_type": "execute_result"
    }
   ],
   "source": [
    "weights,biases"
   ]
  },
  {
   "cell_type": "code",
   "execution_count": 33,
   "id": "sixth-military",
   "metadata": {},
   "outputs": [
    {
     "name": "stdout",
     "output_type": "stream",
     "text": [
      "shape (784, 300)\n"
     ]
    }
   ],
   "source": [
    "print(f'shape {weights.shape}')"
   ]
  },
  {
   "cell_type": "code",
   "execution_count": 34,
   "id": "blessed-yesterday",
   "metadata": {},
   "outputs": [],
   "source": [
    "# now we defined loss function and optimizer\n",
    "LOSS_FUNCTION=\"sparse_categorical_crossentropy\"\n",
    "OPTIMIZER=\"SGD\"\n",
    "MATRICS=[\"accuracy\"]\n",
    "\n",
    "# accurcy matrics want to print \n",
    "\n",
    "model.compile(loss=LOSS_FUNCTION,optimizer=OPTIMIZER,metrics=MATRICS)\n",
    "# now our graph is ready,send the data for training\n"
   ]
  },
  {
   "cell_type": "markdown",
   "id": "formal-perspective",
   "metadata": {},
   "source": [
    "#### Alternatively \n",
    "```python\n",
    "model_clf.compile(loss=tf.losses.sparse_categorical_crossentropy,\n",
    "               optimizer=tf.keras.optimizers.SGD(0.02),\n",
    "               metrics=[\"accuracy\"])\n",
    "```"
   ]
  },
  {
   "cell_type": "code",
   "execution_count": 35,
   "id": "existing-ability",
   "metadata": {},
   "outputs": [
    {
     "name": "stdout",
     "output_type": "stream",
     "text": [
      "Train on 55000 samples, validate on 5000 samples\n",
      "Epoch 1/30\n",
      "55000/55000 [==============================] - 13s 233us/sample - loss: 0.0155 - accuracy: 0.0989 - val_loss: 6.0403e-04 - val_accuracy: 0.0958\n",
      "Epoch 2/30\n",
      "55000/55000 [==============================] - 12s 210us/sample - loss: 4.3739e-04 - accuracy: 0.0990 - val_loss: 2.7952e-04 - val_accuracy: 0.0958\n",
      "Epoch 3/30\n",
      "55000/55000 [==============================] - 12s 220us/sample - loss: 2.4323e-04 - accuracy: 0.0990 - val_loss: 1.7866e-04 - val_accuracy: 0.0958\n",
      "Epoch 4/30\n",
      "55000/55000 [==============================] - 11s 205us/sample - loss: 1.6760e-04 - accuracy: 0.0990 - val_loss: 1.3025e-04 - val_accuracy: 0.0958\n",
      "Epoch 5/30\n",
      "55000/55000 [==============================] - 12s 219us/sample - loss: 1.2739e-04 - accuracy: 0.0990 - val_loss: 1.0197e-04 - val_accuracy: 0.0958\n",
      "Epoch 6/30\n",
      "55000/55000 [==============================] - 12s 212us/sample - loss: 1.0248e-04 - accuracy: 0.0990 - val_loss: 8.3522e-05 - val_accuracy: 0.0958\n",
      "Epoch 7/30\n",
      "55000/55000 [==============================] - 10s 187us/sample - loss: 8.5554e-05 - accuracy: 0.0990 - val_loss: 7.0557e-05 - val_accuracy: 0.0958\n",
      "Epoch 8/30\n",
      "55000/55000 [==============================] - 9s 168us/sample - loss: 7.3330e-05 - accuracy: 0.0990 - val_loss: 6.0976e-05 - val_accuracy: 0.0958\n",
      "Epoch 9/30\n",
      "55000/55000 [==============================] - 9s 171us/sample - loss: 6.4100e-05 - accuracy: 0.0990 - val_loss: 5.3613e-05 - val_accuracy: 0.0958\n",
      "Epoch 10/30\n",
      "55000/55000 [==============================] - 12s 210us/sample - loss: 5.6888e-05 - accuracy: 0.0990 - val_loss: 4.7791e-05 - val_accuracy: 0.0958\n",
      "Epoch 11/30\n",
      "55000/55000 [==============================] - 13s 229us/sample - loss: 5.1104e-05 - accuracy: 0.0990 - val_loss: 4.3070e-05 - val_accuracy: 0.0958\n",
      "Epoch 12/30\n",
      "55000/55000 [==============================] - 12s 225us/sample - loss: 4.6361e-05 - accuracy: 0.0990 - val_loss: 3.9171e-05 - val_accuracy: 0.0958\n",
      "Epoch 13/30\n",
      "55000/55000 [==============================] - 12s 223us/sample - loss: 4.2408e-05 - accuracy: 0.0990 - val_loss: 3.5902e-05 - val_accuracy: 0.0958\n",
      "Epoch 14/30\n",
      "55000/55000 [==============================] - 12s 219us/sample - loss: 3.9062e-05 - accuracy: 0.0990 - val_loss: 3.3117e-05 - val_accuracy: 0.0958\n",
      "Epoch 15/30\n",
      "55000/55000 [==============================] - 11s 207us/sample - loss: 3.6193e-05 - accuracy: 0.0990 - val_loss: 3.0720e-05 - val_accuracy: 0.0958\n",
      "Epoch 16/30\n",
      "55000/55000 [==============================] - 9s 161us/sample - loss: 3.3707e-05 - accuracy: 0.0990 - val_loss: 2.8636e-05 - val_accuracy: 0.0958\n",
      "Epoch 17/30\n",
      "55000/55000 [==============================] - 8s 141us/sample - loss: 3.1535e-05 - accuracy: 0.0990 - val_loss: 2.6810e-05 - val_accuracy: 0.0958\n",
      "Epoch 18/30\n",
      "55000/55000 [==============================] - 11s 208us/sample - loss: 2.9620e-05 - accuracy: 0.0990 - val_loss: 2.5193e-05 - val_accuracy: 0.0958\n",
      "Epoch 19/30\n",
      "55000/55000 [==============================] - 11s 207us/sample - loss: 2.7917e-05 - accuracy: 0.0990 - val_loss: 2.3753e-05 - val_accuracy: 0.0958\n",
      "Epoch 20/30\n",
      "55000/55000 [==============================] - 13s 230us/sample - loss: 2.6397e-05 - accuracy: 0.0990 - val_loss: 2.2465e-05 - val_accuracy: 0.0958\n",
      "Epoch 21/30\n",
      "55000/55000 [==============================] - 12s 214us/sample - loss: 2.5031e-05 - accuracy: 0.0990 - val_loss: 2.1305e-05 - val_accuracy: 0.0958\n",
      "Epoch 22/30\n",
      "55000/55000 [==============================] - 11s 200us/sample - loss: 2.3796e-05 - accuracy: 0.0990 - val_loss: 2.0254e-05 - val_accuracy: 0.0958\n",
      "Epoch 23/30\n",
      "55000/55000 [==============================] - 12s 215us/sample - loss: 2.2674e-05 - accuracy: 0.0990 - val_loss: 1.9299e-05 - val_accuracy: 0.0958\n",
      "Epoch 24/30\n",
      "55000/55000 [==============================] - 12s 212us/sample - loss: 2.1652e-05 - accuracy: 0.0990 - val_loss: 1.8429e-05 - val_accuracy: 0.0958\n",
      "Epoch 25/30\n",
      "55000/55000 [==============================] - 12s 214us/sample - loss: 2.0715e-05 - accuracy: 0.0990 - val_loss: 1.7631e-05 - val_accuracy: 0.0958\n",
      "Epoch 26/30\n",
      "55000/55000 [==============================] - 12s 221us/sample - loss: 1.9855e-05 - accuracy: 0.0990 - val_loss: 1.6896e-05 - val_accuracy: 0.0958\n",
      "Epoch 27/30\n",
      "55000/55000 [==============================] - 12s 217us/sample - loss: 1.9062e-05 - accuracy: 0.0990 - val_loss: 1.6217e-05 - val_accuracy: 0.0958\n",
      "Epoch 28/30\n",
      "55000/55000 [==============================] - 12s 215us/sample - loss: 1.8328e-05 - accuracy: 0.0990 - val_loss: 1.5589e-05 - val_accuracy: 0.0958\n",
      "Epoch 29/30\n",
      "55000/55000 [==============================] - 12s 219us/sample - loss: 1.7649e-05 - accuracy: 0.0990 - val_loss: 1.5007e-05 - val_accuracy: 0.0958\n",
      "Epoch 30/30\n",
      "55000/55000 [==============================] - 12s 218us/sample - loss: 1.7016e-05 - accuracy: 0.0990 - val_loss: 1.4465e-05 - val_accuracy: 0.0958\n"
     ]
    }
   ],
   "source": [
    "EPOCHS=30\n",
    "VALIDATION_SET=x_valid,y_valid\n",
    "history=model.fit(x_train,y_train,epochs=EPOCHS,validation_data=VALIDATION_SET)"
   ]
  },
  {
   "cell_type": "code",
   "execution_count": 38,
   "id": "floral-membrane",
   "metadata": {},
   "outputs": [],
   "source": [
    "# save the model\n",
    "import time\n",
    "import os\n",
    "\n",
    "def saveModelFile(model_dir=\"SAVED_MODEL\"):\n",
    "    os.makedirs(model_dir,exist_ok=True)\n",
    "    filename=time.strftime(\"Model_%Y_%M_%D_%H_%M_%S_.h5\")\n",
    "    model_path=os.path.join(model_dir,filename)\n",
    "    print(f'your model will be saved at following location\\n{model_path}')\n",
    "    return model_path      "
   ]
  },
  {
   "cell_type": "code",
   "execution_count": null,
   "id": "fancy-toronto",
   "metadata": {},
   "outputs": [],
   "source": []
  }
 ],
 "metadata": {
  "kernelspec": {
   "display_name": "Python 3",
   "language": "python",
   "name": "python3"
  },
  "language_info": {
   "codemirror_mode": {
    "name": "ipython",
    "version": 3
   },
   "file_extension": ".py",
   "mimetype": "text/x-python",
   "name": "python",
   "nbconvert_exporter": "python",
   "pygments_lexer": "ipython3",
   "version": "3.7.0"
  }
 },
 "nbformat": 4,
 "nbformat_minor": 5
}
